{
  "metadata": {
    "kernelspec": {
      "name": "python",
      "display_name": "Python (Pyodide)",
      "language": "python"
    },
    "language_info": {
      "codemirror_mode": {
        "name": "python",
        "version": 3
      },
      "file_extension": ".py",
      "mimetype": "text/x-python",
      "name": "python",
      "nbconvert_exporter": "python",
      "pygments_lexer": "ipython3",
      "version": "3.8"
    }
  },
  "nbformat_minor": 4,
  "nbformat": 4,
  "cells": [
    {
      "cell_type": "code",
      "source": "'Exercise 1, page 8\nprint ('Hello World!')",
      "metadata": {
        "trusted": true
      },
      "outputs": [
        {
          "name": "stdout",
          "text": "Hello World!\n",
          "output_type": "stream"
        }
      ],
      "execution_count": 1
    },
    {
      "cell_type": "code",
      "source": "'Exercise 2, Page 13\nmystring = \"Hello\"\nmyfloat = 10.0\nmyint = 20\n\nif mystring == \"Hello\":\n    print (\"My Sting is:\")\n    print (mystring)\n\nif myfloat == 10.0:\n    print (\"My Float is:\")\n    print (myfloat)\n\nif myint == 20:\n    print(\"My Int is:\")\n    print (myint)",
      "metadata": {
        "trusted": true
      },
      "outputs": [
        {
          "name": "stdout",
          "text": "My Sting is:\nHello\nMy Float is:\n10.0\nMy Int is:\n20\n",
          "output_type": "stream"
        }
      ],
      "execution_count": 28
    },
    {
      "cell_type": "code",
      "source": "'Exercise 3, Page 16\nnumbers = []\nstrings = []\nnames = [\"John\", \"Eric\", \"Jessica\"]\n\nnumbers.append(1)\nnumbers.append(2)\nnumbers.append(3)\nstrings.append(\"Hello\")\nstrings.append(\"World\")\nsecond_name = names[2]\n\nprint(\"The second name on the list is:\" + second_name)",
      "metadata": {
        "trusted": true
      },
      "outputs": [
        {
          "name": "stdout",
          "text": "The second name on the list is:Jessica\n",
          "output_type": "stream"
        }
      ],
      "execution_count": 33
    },
    {
      "cell_type": "code",
      "source": "'Exercise 4, Page 22\nx = object()\ny = object()\n\nx_list = [x] * 10\ny_list = [y] * 10\nbig_list = x_list + y_list\n\nprint(\"x_list contains %d objects\" % len(x_list))\nprint(\"y_list contains %d objects\" % len(y_list))\nprint(\"big_list contains %d objects\" % len(big_list))\n\nif x_list.count(x) == 10 and y_list.count(y) == 10:\n    print (\"Almost There...\")\n\nif big_list.count(x) == 10 and big_list.count(y) == 10:\n    print (\"Great!\")",
      "metadata": {
        "trusted": true
      },
      "outputs": [
        {
          "name": "stdout",
          "text": "x_list contains 10 objects\ny_list contains 10 objects\nbig_list contains 20 objects\nAlmost There...\nGreat!\n",
          "output_type": "stream"
        }
      ],
      "execution_count": 44
    },
    {
      "cell_type": "code",
      "source": "'Exercise 5, Page 26\ndata =(\"John\",\"Doe\", 53.44)\nformat_string = (\"Hello,%s\" % data[0]+ \" \"+data[1])+ \" \"+(\"Your balance is:$%.2f\" % data[2])\n\nprint (format_string)",
      "metadata": {
        "trusted": true
      },
      "outputs": [
        {
          "name": "stdout",
          "text": "Hello,John Doe Your balance is:$53.44\n",
          "output_type": "stream"
        }
      ],
      "execution_count": 72
    },
    {
      "cell_type": "code",
      "source": "'Exercise 6, Page 32\ns= \"I need to type out twenty characters\"\nprint((\"length of s = %d\") % len(s))\nprint(\"The first occurence of the letter a = %d\" % s.index(\"a\"))\nprint(\"a occurs %d times\" % s.count(\"a\"))\nprint((\"The first 5 characters are %s\" % s[:5]))\nprint((\"The next 5 characters are %s\" % s[5:10]))\nprint((\"The 13th character is %s\" % s[12]))\nprint((\"characters with odd indexing are %s\" % s[1:2]))\nprint((\"The last 5 characters are %s\" % s[-5:]))\nprint(\"string in uppercase: %s\" % s.upper())\nprint(\"string in lowercase: %s\" % s.lower())\nif s.startswith(\"I need\"):\n    print (\"String starts with 'I need'\")\n\nif s.endswith(\"characters\"):\n    print (\"String ends with 'characters'\")",
      "metadata": {
        "trusted": true
      },
      "outputs": [
        {
          "name": "stdout",
          "text": "length of s = 36\nThe first occurence of the letter a = 28\na occurs 2 times\nThe first 5 characters are I nee\nThe next 5 characters are d to \nThe 13th character is p\ncharacters with odd indexing are  \nThe last 5 characters are cters\nstring in uppercase: I NEED TO TYPE OUT TWENTY CHARACTERS\nstring in lowercase: i need to type out twenty characters\nString starts with 'I need'\nString ends with 'characters'\n",
          "output_type": "stream"
        }
      ],
      "execution_count": 97
    },
    {
      "cell_type": "code",
      "source": "'Exercise 7, Page 40\nnumber = 16\nsecond_number = 10\nfirst_array = [1,2,3]\nsecond_array =[1,2,]\nif number > 15:\n    print (1)\n\nif first_array:\n    print(\"2\")\n\nif len(second_array) == 2:\n    print(\"3\") \n\nif len(first_array) + len(second_array) == 5:\n    print (\"4\")\n\nif first_array and first_array[0] == 1:\n    print(\"5\")\n\nif not  second_number:\n    print(\"6\")",
      "metadata": {
        "trusted": true
      },
      "outputs": [
        {
          "ename": "<class 'SyntaxError'>",
          "evalue": "invalid syntax (<ipython-input-1-96eb44947214>, line 20)",
          "traceback": [
            "\u001b[0;36m  Cell \u001b[0;32mIn[1], line 20\u001b[0;36m\u001b[0m\n\u001b[0;31m    if not == second_number:\u001b[0m\n\u001b[0m           ^\u001b[0m\n\u001b[0;31mSyntaxError\u001b[0m\u001b[0;31m:\u001b[0m invalid syntax\n"
          ],
          "output_type": "error"
        }
      ],
      "execution_count": 1
    },
    {
      "cell_type": "code",
      "source": "'Exercise 8, Page 47\nnumbers = [\n    951, 402, 984, 651, 360, 69, 408, 319, 601, 485, 980,\n    507, 725, 547, 544, 615, 83, 165, 141, 501, 263, 617,\n    865, 575, 219, 390, 984, 592, 236, 105, 942, 941, 386,\n    462, 47, 418, 907, 344, 236, 375, 823, 566, 597, 978,\n    328, 615, 953, 345, 399, 162, 758, 219, 918, 237, 412,\n    566, 597, 978, 328, 615, 953, 345, 399, 162, 758, 219,\n    918, 237, 412, 566, 826, 248, 866, 950, 626, 949, 687,\n    217, 815, 67, 104, 58, 512, 24, 892, 894, 767, 553, 81,\n    379, 843, 831, 445, 742, 717, 958, 609, 842, 451, 688,\n    753, 854, 685,  93, 857, 440, 380, 126, 721, 328, 753,\n    854, 685, 93, 857, 440, 380, 126, 721, 328, 753, 470,\n    743, 527\n]\n\nfor x in numbers:\n    print (x)\n    if x == 237:\n        break",
      "metadata": {
        "trusted": true
      },
      "outputs": [
        {
          "name": "stdout",
          "text": "951\n402\n984\n651\n360\n69\n408\n319\n601\n485\n980\n507\n725\n547\n544\n615\n83\n165\n141\n501\n263\n617\n865\n575\n219\n390\n984\n592\n236\n105\n942\n941\n386\n462\n47\n418\n907\n344\n236\n375\n823\n566\n597\n978\n328\n615\n953\n345\n399\n162\n758\n219\n918\n237\n",
          "output_type": "stream"
        }
      ],
      "execution_count": 128
    },
    {
      "cell_type": "code",
      "source": "",
      "metadata": {
        "trusted": true
      },
      "outputs": [],
      "execution_count": null
    }
  ]
}